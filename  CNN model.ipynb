{
 "cells": [
  {
   "cell_type": "code",
   "execution_count": 1,
   "metadata": {},
   "outputs": [
    {
     "name": "stderr",
     "output_type": "stream",
     "text": [
      "Using TensorFlow backend.\n",
      "C:\\Users\\aswitha eddy\\anaconda3\\lib\\site-packages\\tensorflow\\python\\framework\\dtypes.py:516: FutureWarning: Passing (type, 1) or '1type' as a synonym of type is deprecated; in a future version of numpy, it will be understood as (type, (1,)) / '(1,)type'.\n",
      "  _np_qint8 = np.dtype([(\"qint8\", np.int8, 1)])\n",
      "C:\\Users\\aswitha eddy\\anaconda3\\lib\\site-packages\\tensorflow\\python\\framework\\dtypes.py:517: FutureWarning: Passing (type, 1) or '1type' as a synonym of type is deprecated; in a future version of numpy, it will be understood as (type, (1,)) / '(1,)type'.\n",
      "  _np_quint8 = np.dtype([(\"quint8\", np.uint8, 1)])\n",
      "C:\\Users\\aswitha eddy\\anaconda3\\lib\\site-packages\\tensorflow\\python\\framework\\dtypes.py:518: FutureWarning: Passing (type, 1) or '1type' as a synonym of type is deprecated; in a future version of numpy, it will be understood as (type, (1,)) / '(1,)type'.\n",
      "  _np_qint16 = np.dtype([(\"qint16\", np.int16, 1)])\n",
      "C:\\Users\\aswitha eddy\\anaconda3\\lib\\site-packages\\tensorflow\\python\\framework\\dtypes.py:519: FutureWarning: Passing (type, 1) or '1type' as a synonym of type is deprecated; in a future version of numpy, it will be understood as (type, (1,)) / '(1,)type'.\n",
      "  _np_quint16 = np.dtype([(\"quint16\", np.uint16, 1)])\n",
      "C:\\Users\\aswitha eddy\\anaconda3\\lib\\site-packages\\tensorflow\\python\\framework\\dtypes.py:520: FutureWarning: Passing (type, 1) or '1type' as a synonym of type is deprecated; in a future version of numpy, it will be understood as (type, (1,)) / '(1,)type'.\n",
      "  _np_qint32 = np.dtype([(\"qint32\", np.int32, 1)])\n",
      "C:\\Users\\aswitha eddy\\anaconda3\\lib\\site-packages\\tensorflow\\python\\framework\\dtypes.py:525: FutureWarning: Passing (type, 1) or '1type' as a synonym of type is deprecated; in a future version of numpy, it will be understood as (type, (1,)) / '(1,)type'.\n",
      "  np_resource = np.dtype([(\"resource\", np.ubyte, 1)])\n",
      "C:\\Users\\aswitha eddy\\anaconda3\\lib\\site-packages\\tensorboard\\compat\\tensorflow_stub\\dtypes.py:541: FutureWarning: Passing (type, 1) or '1type' as a synonym of type is deprecated; in a future version of numpy, it will be understood as (type, (1,)) / '(1,)type'.\n",
      "  _np_qint8 = np.dtype([(\"qint8\", np.int8, 1)])\n",
      "C:\\Users\\aswitha eddy\\anaconda3\\lib\\site-packages\\tensorboard\\compat\\tensorflow_stub\\dtypes.py:542: FutureWarning: Passing (type, 1) or '1type' as a synonym of type is deprecated; in a future version of numpy, it will be understood as (type, (1,)) / '(1,)type'.\n",
      "  _np_quint8 = np.dtype([(\"quint8\", np.uint8, 1)])\n",
      "C:\\Users\\aswitha eddy\\anaconda3\\lib\\site-packages\\tensorboard\\compat\\tensorflow_stub\\dtypes.py:543: FutureWarning: Passing (type, 1) or '1type' as a synonym of type is deprecated; in a future version of numpy, it will be understood as (type, (1,)) / '(1,)type'.\n",
      "  _np_qint16 = np.dtype([(\"qint16\", np.int16, 1)])\n",
      "C:\\Users\\aswitha eddy\\anaconda3\\lib\\site-packages\\tensorboard\\compat\\tensorflow_stub\\dtypes.py:544: FutureWarning: Passing (type, 1) or '1type' as a synonym of type is deprecated; in a future version of numpy, it will be understood as (type, (1,)) / '(1,)type'.\n",
      "  _np_quint16 = np.dtype([(\"quint16\", np.uint16, 1)])\n",
      "C:\\Users\\aswitha eddy\\anaconda3\\lib\\site-packages\\tensorboard\\compat\\tensorflow_stub\\dtypes.py:545: FutureWarning: Passing (type, 1) or '1type' as a synonym of type is deprecated; in a future version of numpy, it will be understood as (type, (1,)) / '(1,)type'.\n",
      "  _np_qint32 = np.dtype([(\"qint32\", np.int32, 1)])\n",
      "C:\\Users\\aswitha eddy\\anaconda3\\lib\\site-packages\\tensorboard\\compat\\tensorflow_stub\\dtypes.py:550: FutureWarning: Passing (type, 1) or '1type' as a synonym of type is deprecated; in a future version of numpy, it will be understood as (type, (1,)) / '(1,)type'.\n",
      "  np_resource = np.dtype([(\"resource\", np.ubyte, 1)])\n"
     ]
    }
   ],
   "source": [
    "from keras.models import Sequential\n",
    "from keras.layers import Dense\n",
    "from keras.layers import Convolution2D\n",
    "from keras.layers import MaxPooling2D\n",
    "from keras.layers import Flatten"
   ]
  },
  {
   "cell_type": "code",
   "execution_count": 2,
   "metadata": {},
   "outputs": [],
   "source": [
    "from keras.preprocessing.image import ImageDataGenerator\n",
    "train_datagen=ImageDataGenerator(rescale=1./255,shear_range=0.2,zoom_range=0.2,horizontal_flip=True)\n",
    "test_datagen=ImageDataGenerator(rescale=1./255)"
   ]
  },
  {
   "cell_type": "code",
   "execution_count": 3,
   "metadata": {},
   "outputs": [
    {
     "name": "stdout",
     "output_type": "stream",
     "text": [
      "Found 348 images belonging to 5 classes.\n",
      "Found 149 images belonging to 5 classes.\n"
     ]
    }
   ],
   "source": [
    "x_train=train_datagen.flow_from_directory(r\"C:\\Users\\aswitha eddy\\Desktop\\skin disease\\trainset\",target_size=(64,64),batch_size=32,class_mode=\"categorical\")\n",
    "x_test=train_datagen.flow_from_directory(r\"C:\\Users\\aswitha eddy\\Desktop\\skin disease\\testset\",target_size=(64,64),batch_size=32,class_mode=\"categorical\")"
   ]
  },
  {
   "cell_type": "code",
   "execution_count": 4,
   "metadata": {},
   "outputs": [
    {
     "data": {
      "text/plain": [
       "{'acne': 0, 'blister': 1, 'chikenpox': 2, 'melanoma': 3, 'vitiligo': 4}"
      ]
     },
     "execution_count": 4,
     "metadata": {},
     "output_type": "execute_result"
    }
   ],
   "source": [
    "x_train.class_indices"
   ]
  },
  {
   "cell_type": "code",
   "execution_count": 5,
   "metadata": {},
   "outputs": [
    {
     "name": "stdout",
     "output_type": "stream",
     "text": [
      "WARNING:tensorflow:From C:\\Users\\aswitha eddy\\anaconda3\\lib\\site-packages\\keras\\backend\\tensorflow_backend.py:74: The name tf.get_default_graph is deprecated. Please use tf.compat.v1.get_default_graph instead.\n",
      "\n"
     ]
    }
   ],
   "source": [
    "model=Sequential()"
   ]
  },
  {
   "cell_type": "code",
   "execution_count": 6,
   "metadata": {},
   "outputs": [
    {
     "name": "stdout",
     "output_type": "stream",
     "text": [
      "WARNING:tensorflow:From C:\\Users\\aswitha eddy\\anaconda3\\lib\\site-packages\\keras\\backend\\tensorflow_backend.py:517: The name tf.placeholder is deprecated. Please use tf.compat.v1.placeholder instead.\n",
      "\n",
      "WARNING:tensorflow:From C:\\Users\\aswitha eddy\\anaconda3\\lib\\site-packages\\keras\\backend\\tensorflow_backend.py:4138: The name tf.random_uniform is deprecated. Please use tf.random.uniform instead.\n",
      "\n"
     ]
    }
   ],
   "source": [
    "model.add(Convolution2D(32,(3,3),input_shape=(64,64,3),activation=\"relu\"))"
   ]
  },
  {
   "cell_type": "code",
   "execution_count": 7,
   "metadata": {},
   "outputs": [],
   "source": [
    "model.add(Convolution2D(32,(3,3),input_shape=(64,64,3),activation=\"relu\"))"
   ]
  },
  {
   "cell_type": "code",
   "execution_count": 8,
   "metadata": {},
   "outputs": [
    {
     "name": "stdout",
     "output_type": "stream",
     "text": [
      "WARNING:tensorflow:From C:\\Users\\aswitha eddy\\anaconda3\\lib\\site-packages\\keras\\backend\\tensorflow_backend.py:3976: The name tf.nn.max_pool is deprecated. Please use tf.nn.max_pool2d instead.\n",
      "\n"
     ]
    }
   ],
   "source": [
    "model.add(MaxPooling2D(pool_size=(2,2)))"
   ]
  },
  {
   "cell_type": "code",
   "execution_count": 9,
   "metadata": {},
   "outputs": [],
   "source": [
    "model.add(Flatten())"
   ]
  },
  {
   "cell_type": "code",
   "execution_count": 10,
   "metadata": {},
   "outputs": [
    {
     "name": "stderr",
     "output_type": "stream",
     "text": [
      "C:\\Users\\aswitha eddy\\anaconda3\\lib\\site-packages\\ipykernel_launcher.py:1: UserWarning: Update your `Dense` call to the Keras 2 API: `Dense(units=128, activation=\"relu\", kernel_initializer=\"uniform\")`\n",
      "  \"\"\"Entry point for launching an IPython kernel.\n"
     ]
    }
   ],
   "source": [
    "model.add(Dense(units=128,init=\"uniform\",activation=\"relu\"))"
   ]
  },
  {
   "cell_type": "code",
   "execution_count": 11,
   "metadata": {},
   "outputs": [
    {
     "name": "stderr",
     "output_type": "stream",
     "text": [
      "C:\\Users\\aswitha eddy\\anaconda3\\lib\\site-packages\\ipykernel_launcher.py:1: UserWarning: Update your `Dense` call to the Keras 2 API: `Dense(units=128, activation=\"relu\", kernel_initializer=\"uniform\")`\n",
      "  \"\"\"Entry point for launching an IPython kernel.\n"
     ]
    }
   ],
   "source": [
    "model.add(Dense(units=128,init=\"uniform\",activation=\"relu\"))"
   ]
  },
  {
   "cell_type": "code",
   "execution_count": 12,
   "metadata": {},
   "outputs": [
    {
     "name": "stderr",
     "output_type": "stream",
     "text": [
      "C:\\Users\\aswitha eddy\\anaconda3\\lib\\site-packages\\ipykernel_launcher.py:1: UserWarning: Update your `Dense` call to the Keras 2 API: `Dense(units=64, activation=\"relu\", kernel_initializer=\"uniform\")`\n",
      "  \"\"\"Entry point for launching an IPython kernel.\n"
     ]
    }
   ],
   "source": [
    "model.add(Dense(units=64,init=\"uniform\",activation=\"relu\"))"
   ]
  },
  {
   "cell_type": "code",
   "execution_count": 13,
   "metadata": {},
   "outputs": [
    {
     "name": "stderr",
     "output_type": "stream",
     "text": [
      "C:\\Users\\aswitha eddy\\anaconda3\\lib\\site-packages\\ipykernel_launcher.py:1: UserWarning: Update your `Dense` call to the Keras 2 API: `Dense(units=64, activation=\"relu\", kernel_initializer=\"uniform\")`\n",
      "  \"\"\"Entry point for launching an IPython kernel.\n"
     ]
    }
   ],
   "source": [
    "model.add(Dense(units=64,init=\"uniform\",activation=\"relu\"))"
   ]
  },
  {
   "cell_type": "code",
   "execution_count": 14,
   "metadata": {},
   "outputs": [
    {
     "name": "stderr",
     "output_type": "stream",
     "text": [
      "C:\\Users\\aswitha eddy\\anaconda3\\lib\\site-packages\\ipykernel_launcher.py:1: UserWarning: Update your `Dense` call to the Keras 2 API: `Dense(units=5, activation=\"softmax\", kernel_initializer=\"uniform\")`\n",
      "  \"\"\"Entry point for launching an IPython kernel.\n"
     ]
    }
   ],
   "source": [
    "model.add(Dense(units=5,init=\"uniform\",activation=\"softmax\"))"
   ]
  },
  {
   "cell_type": "code",
   "execution_count": 15,
   "metadata": {},
   "outputs": [
    {
     "name": "stdout",
     "output_type": "stream",
     "text": [
      "WARNING:tensorflow:From C:\\Users\\aswitha eddy\\anaconda3\\lib\\site-packages\\keras\\optimizers.py:790: The name tf.train.Optimizer is deprecated. Please use tf.compat.v1.train.Optimizer instead.\n",
      "\n",
      "WARNING:tensorflow:From C:\\Users\\aswitha eddy\\anaconda3\\lib\\site-packages\\keras\\backend\\tensorflow_backend.py:3295: The name tf.log is deprecated. Please use tf.math.log instead.\n",
      "\n"
     ]
    }
   ],
   "source": [
    "model.compile(optimizer=\"adam\",loss=\"categorical_crossentropy\",metrics=[\"accuracy\"])"
   ]
  },
  {
   "cell_type": "code",
   "execution_count": 16,
   "metadata": {},
   "outputs": [
    {
     "name": "stdout",
     "output_type": "stream",
     "text": [
      "WARNING:tensorflow:From C:\\Users\\aswitha eddy\\anaconda3\\lib\\site-packages\\tensorflow\\python\\ops\\math_grad.py:1250: add_dispatch_support.<locals>.wrapper (from tensorflow.python.ops.array_ops) is deprecated and will be removed in a future version.\n",
      "Instructions for updating:\n",
      "Use tf.where in 2.0, which has the same broadcast rule as np.where\n",
      "WARNING:tensorflow:From C:\\Users\\aswitha eddy\\anaconda3\\lib\\site-packages\\keras\\backend\\tensorflow_backend.py:986: The name tf.assign_add is deprecated. Please use tf.compat.v1.assign_add instead.\n",
      "\n",
      "Epoch 1/50\n",
      "50/50 [==============================] - 83s 2s/step - loss: 1.5767 - acc: 0.2523 - val_loss: 1.3897 - val_acc: 0.3087\n",
      "Epoch 2/50\n",
      "50/50 [==============================] - 48s 967ms/step - loss: 1.3211 - acc: 0.3984 - val_loss: 1.1377 - val_acc: 0.4510\n",
      "Epoch 3/50\n",
      "50/50 [==============================] - 58s 1s/step - loss: 1.2319 - acc: 0.4525 - val_loss: 1.0839 - val_acc: 0.5396\n",
      "Epoch 4/50\n",
      "50/50 [==============================] - 53s 1s/step - loss: 1.0974 - acc: 0.5008 - val_loss: 1.0195 - val_acc: 0.5034\n",
      "Epoch 5/50\n",
      "50/50 [==============================] - 37s 739ms/step - loss: 1.0442 - acc: 0.5159 - val_loss: 1.1241 - val_acc: 0.5034\n",
      "Epoch 6/50\n",
      "50/50 [==============================] - 44s 880ms/step - loss: 0.9809 - acc: 0.5323 - val_loss: 1.1336 - val_acc: 0.5074\n",
      "Epoch 7/50\n",
      "50/50 [==============================] - 39s 783ms/step - loss: 0.9891 - acc: 0.5406 - val_loss: 1.2433 - val_acc: 0.4698\n",
      "Epoch 8/50\n",
      "50/50 [==============================] - 39s 776ms/step - loss: 0.9677 - acc: 0.5458 - val_loss: 1.0759 - val_acc: 0.4711\n",
      "Epoch 9/50\n",
      "50/50 [==============================] - 38s 764ms/step - loss: 0.9131 - acc: 0.5656 - val_loss: 1.1700 - val_acc: 0.5275\n",
      "Epoch 10/50\n",
      "50/50 [==============================] - 38s 760ms/step - loss: 0.8226 - acc: 0.6063 - val_loss: 1.1773 - val_acc: 0.4872\n",
      "Epoch 11/50\n",
      "50/50 [==============================] - 38s 767ms/step - loss: 0.7911 - acc: 0.6290 - val_loss: 1.3423 - val_acc: 0.5356\n",
      "Epoch 12/50\n",
      "50/50 [==============================] - 39s 786ms/step - loss: 0.7472 - acc: 0.6557 - val_loss: 1.2649 - val_acc: 0.5181\n",
      "Epoch 13/50\n",
      "50/50 [==============================] - 38s 757ms/step - loss: 0.7128 - acc: 0.6717 - val_loss: 1.2659 - val_acc: 0.5772\n",
      "Epoch 14/50\n",
      "50/50 [==============================] - 41s 821ms/step - loss: 0.6110 - acc: 0.7466 - val_loss: 1.5147 - val_acc: 0.5799\n",
      "Epoch 15/50\n",
      "50/50 [==============================] - 40s 804ms/step - loss: 0.5219 - acc: 0.7892 - val_loss: 1.6006 - val_acc: 0.5785\n",
      "Epoch 16/50\n",
      "50/50 [==============================] - 48s 970ms/step - loss: 0.5051 - acc: 0.7874 - val_loss: 1.5576 - val_acc: 0.5839\n",
      "Epoch 17/50\n",
      "50/50 [==============================] - 44s 885ms/step - loss: 0.4251 - acc: 0.8385 - val_loss: 1.5679 - val_acc: 0.6027\n",
      "Epoch 18/50\n",
      "50/50 [==============================] - 46s 911ms/step - loss: 0.4125 - acc: 0.8529 - val_loss: 1.5434 - val_acc: 0.5946\n",
      "Epoch 19/50\n",
      "50/50 [==============================] - 38s 760ms/step - loss: 0.3068 - acc: 0.8858 - val_loss: 1.5522 - val_acc: 0.6819\n",
      "Epoch 20/50\n",
      "50/50 [==============================] - 37s 745ms/step - loss: 0.4070 - acc: 0.8438 - val_loss: 1.2359 - val_acc: 0.6872\n",
      "Epoch 21/50\n",
      "50/50 [==============================] - 36s 729ms/step - loss: 0.2170 - acc: 0.9205 - val_loss: 1.6209 - val_acc: 0.6430\n",
      "Epoch 22/50\n",
      "50/50 [==============================] - 37s 735ms/step - loss: 0.1461 - acc: 0.9504 - val_loss: 1.8893 - val_acc: 0.6886\n",
      "Epoch 23/50\n",
      "50/50 [==============================] - 37s 746ms/step - loss: 0.1336 - acc: 0.9651 - val_loss: 1.6958 - val_acc: 0.6980\n",
      "Epoch 24/50\n",
      "50/50 [==============================] - 37s 735ms/step - loss: 0.1750 - acc: 0.9395 - val_loss: 1.5481 - val_acc: 0.6859\n",
      "Epoch 25/50\n",
      "50/50 [==============================] - 42s 837ms/step - loss: 0.1274 - acc: 0.9556 - val_loss: 1.8793 - val_acc: 0.6805\n",
      "Epoch 26/50\n",
      "50/50 [==============================] - 39s 777ms/step - loss: 0.1015 - acc: 0.9670 - val_loss: 1.8003 - val_acc: 0.6685\n",
      "Epoch 27/50\n",
      "50/50 [==============================] - 44s 882ms/step - loss: 0.0922 - acc: 0.9681 - val_loss: 2.0685 - val_acc: 0.6362\n",
      "Epoch 28/50\n",
      "50/50 [==============================] - 37s 735ms/step - loss: 0.1876 - acc: 0.9411 - val_loss: 1.6886 - val_acc: 0.6926\n",
      "Epoch 29/50\n",
      "50/50 [==============================] - 37s 743ms/step - loss: 0.0813 - acc: 0.9693 - val_loss: 2.0774 - val_acc: 0.6779\n",
      "Epoch 30/50\n",
      "50/50 [==============================] - 37s 732ms/step - loss: 0.0968 - acc: 0.9725 - val_loss: 1.9383 - val_acc: 0.6913\n",
      "Epoch 31/50\n",
      "50/50 [==============================] - 40s 810ms/step - loss: 0.1015 - acc: 0.9621 - val_loss: 1.9050 - val_acc: 0.6537\n",
      "Epoch 32/50\n",
      "50/50 [==============================] - 49s 986ms/step - loss: 0.0345 - acc: 0.9891 - val_loss: 1.9549 - val_acc: 0.6765\n",
      "Epoch 33/50\n",
      "50/50 [==============================] - 43s 859ms/step - loss: 0.0207 - acc: 0.9937 - val_loss: 2.0226 - val_acc: 0.7128\n",
      "Epoch 34/50\n",
      "50/50 [==============================] - 49s 979ms/step - loss: 0.0534 - acc: 0.9815 - val_loss: 2.1037 - val_acc: 0.6926\n",
      "Epoch 35/50\n",
      "50/50 [==============================] - 40s 802ms/step - loss: 0.0168 - acc: 0.9950 - val_loss: 2.3454 - val_acc: 0.7114\n",
      "Epoch 36/50\n",
      "50/50 [==============================] - 37s 732ms/step - loss: 0.0179 - acc: 0.9950 - val_loss: 2.2099 - val_acc: 0.6819\n",
      "Epoch 37/50\n",
      "50/50 [==============================] - 37s 746ms/step - loss: 0.0702 - acc: 0.9734 - val_loss: 2.3118 - val_acc: 0.6765\n",
      "Epoch 38/50\n",
      "50/50 [==============================] - 42s 836ms/step - loss: 0.1329 - acc: 0.9618 - val_loss: 1.7111 - val_acc: 0.6966\n",
      "Epoch 39/50\n",
      "50/50 [==============================] - 37s 737ms/step - loss: 0.0632 - acc: 0.9798 - val_loss: 1.9215 - val_acc: 0.6805\n",
      "Epoch 40/50\n",
      "50/50 [==============================] - 37s 745ms/step - loss: 0.0457 - acc: 0.9818 - val_loss: 1.9632 - val_acc: 0.6926\n",
      "Epoch 41/50\n",
      "50/50 [==============================] - 37s 748ms/step - loss: 0.0206 - acc: 0.9931 - val_loss: 2.3294 - val_acc: 0.6819\n",
      "Epoch 42/50\n",
      "50/50 [==============================] - 48s 953ms/step - loss: 0.0271 - acc: 0.9916 - val_loss: 2.0714 - val_acc: 0.6658\n",
      "Epoch 43/50\n",
      "50/50 [==============================] - 47s 935ms/step - loss: 0.0850 - acc: 0.9696 - val_loss: 2.2352 - val_acc: 0.6698\n",
      "Epoch 44/50\n",
      "50/50 [==============================] - 44s 878ms/step - loss: 0.0346 - acc: 0.9887 - val_loss: 2.3841 - val_acc: 0.6940\n",
      "Epoch 45/50\n",
      "50/50 [==============================] - 40s 801ms/step - loss: 0.0560 - acc: 0.9841 - val_loss: 2.3663 - val_acc: 0.6805\n",
      "Epoch 46/50\n",
      "50/50 [==============================] - 47s 938ms/step - loss: 0.0379 - acc: 0.9860 - val_loss: 2.4378 - val_acc: 0.6564\n",
      "Epoch 47/50\n",
      "50/50 [==============================] - 45s 909ms/step - loss: 0.0268 - acc: 0.9922 - val_loss: 2.3285 - val_acc: 0.6966\n",
      "Epoch 48/50\n",
      "50/50 [==============================] - 41s 813ms/step - loss: 0.0348 - acc: 0.9879 - val_loss: 2.1840 - val_acc: 0.6899\n",
      "Epoch 49/50\n",
      "50/50 [==============================] - 45s 900ms/step - loss: 0.0064 - acc: 0.9987 - val_loss: 2.6068 - val_acc: 0.6644\n",
      "Epoch 50/50\n",
      "50/50 [==============================] - 40s 803ms/step - loss: 0.0255 - acc: 0.9923 - val_loss: 2.5351 - val_acc: 0.6886\n"
     ]
    },
    {
     "data": {
      "text/plain": [
       "<keras.callbacks.History at 0x21f4b654e08>"
      ]
     },
     "execution_count": 16,
     "metadata": {},
     "output_type": "execute_result"
    }
   ],
   "source": [
    "model.fit_generator(x_train,steps_per_epoch=50,epochs=50,validation_data=x_test,validation_steps=25)"
   ]
  },
  {
   "cell_type": "code",
   "execution_count": 18,
   "metadata": {},
   "outputs": [],
   "source": [
    "model.save(\"skindisease.h5\")"
   ]
  }
 ],
 "metadata": {
  "kernelspec": {
   "display_name": "Python 3",
   "language": "python",
   "name": "python3"
  },
  "language_info": {
   "codemirror_mode": {
    "name": "ipython",
    "version": 3
   },
   "file_extension": ".py",
   "mimetype": "text/x-python",
   "name": "python",
   "nbconvert_exporter": "python",
   "pygments_lexer": "ipython3",
   "version": "3.7.6"
  }
 },
 "nbformat": 4,
 "nbformat_minor": 4
}
