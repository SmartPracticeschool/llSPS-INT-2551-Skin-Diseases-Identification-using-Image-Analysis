{
 "cells": [
  {
   "cell_type": "code",
   "execution_count": 1,
   "metadata": {},
   "outputs": [
    {
     "name": "stderr",
     "output_type": "stream",
     "text": [
      "Using TensorFlow backend.\n",
      "C:\\Users\\aswitha eddy\\anaconda3\\lib\\site-packages\\tensorflow\\python\\framework\\dtypes.py:516: FutureWarning: Passing (type, 1) or '1type' as a synonym of type is deprecated; in a future version of numpy, it will be understood as (type, (1,)) / '(1,)type'.\n",
      "  _np_qint8 = np.dtype([(\"qint8\", np.int8, 1)])\n",
      "C:\\Users\\aswitha eddy\\anaconda3\\lib\\site-packages\\tensorflow\\python\\framework\\dtypes.py:517: FutureWarning: Passing (type, 1) or '1type' as a synonym of type is deprecated; in a future version of numpy, it will be understood as (type, (1,)) / '(1,)type'.\n",
      "  _np_quint8 = np.dtype([(\"quint8\", np.uint8, 1)])\n",
      "C:\\Users\\aswitha eddy\\anaconda3\\lib\\site-packages\\tensorflow\\python\\framework\\dtypes.py:518: FutureWarning: Passing (type, 1) or '1type' as a synonym of type is deprecated; in a future version of numpy, it will be understood as (type, (1,)) / '(1,)type'.\n",
      "  _np_qint16 = np.dtype([(\"qint16\", np.int16, 1)])\n",
      "C:\\Users\\aswitha eddy\\anaconda3\\lib\\site-packages\\tensorflow\\python\\framework\\dtypes.py:519: FutureWarning: Passing (type, 1) or '1type' as a synonym of type is deprecated; in a future version of numpy, it will be understood as (type, (1,)) / '(1,)type'.\n",
      "  _np_quint16 = np.dtype([(\"quint16\", np.uint16, 1)])\n",
      "C:\\Users\\aswitha eddy\\anaconda3\\lib\\site-packages\\tensorflow\\python\\framework\\dtypes.py:520: FutureWarning: Passing (type, 1) or '1type' as a synonym of type is deprecated; in a future version of numpy, it will be understood as (type, (1,)) / '(1,)type'.\n",
      "  _np_qint32 = np.dtype([(\"qint32\", np.int32, 1)])\n",
      "C:\\Users\\aswitha eddy\\anaconda3\\lib\\site-packages\\tensorflow\\python\\framework\\dtypes.py:525: FutureWarning: Passing (type, 1) or '1type' as a synonym of type is deprecated; in a future version of numpy, it will be understood as (type, (1,)) / '(1,)type'.\n",
      "  np_resource = np.dtype([(\"resource\", np.ubyte, 1)])\n",
      "C:\\Users\\aswitha eddy\\anaconda3\\lib\\site-packages\\tensorboard\\compat\\tensorflow_stub\\dtypes.py:541: FutureWarning: Passing (type, 1) or '1type' as a synonym of type is deprecated; in a future version of numpy, it will be understood as (type, (1,)) / '(1,)type'.\n",
      "  _np_qint8 = np.dtype([(\"qint8\", np.int8, 1)])\n",
      "C:\\Users\\aswitha eddy\\anaconda3\\lib\\site-packages\\tensorboard\\compat\\tensorflow_stub\\dtypes.py:542: FutureWarning: Passing (type, 1) or '1type' as a synonym of type is deprecated; in a future version of numpy, it will be understood as (type, (1,)) / '(1,)type'.\n",
      "  _np_quint8 = np.dtype([(\"quint8\", np.uint8, 1)])\n",
      "C:\\Users\\aswitha eddy\\anaconda3\\lib\\site-packages\\tensorboard\\compat\\tensorflow_stub\\dtypes.py:543: FutureWarning: Passing (type, 1) or '1type' as a synonym of type is deprecated; in a future version of numpy, it will be understood as (type, (1,)) / '(1,)type'.\n",
      "  _np_qint16 = np.dtype([(\"qint16\", np.int16, 1)])\n",
      "C:\\Users\\aswitha eddy\\anaconda3\\lib\\site-packages\\tensorboard\\compat\\tensorflow_stub\\dtypes.py:544: FutureWarning: Passing (type, 1) or '1type' as a synonym of type is deprecated; in a future version of numpy, it will be understood as (type, (1,)) / '(1,)type'.\n",
      "  _np_quint16 = np.dtype([(\"quint16\", np.uint16, 1)])\n",
      "C:\\Users\\aswitha eddy\\anaconda3\\lib\\site-packages\\tensorboard\\compat\\tensorflow_stub\\dtypes.py:545: FutureWarning: Passing (type, 1) or '1type' as a synonym of type is deprecated; in a future version of numpy, it will be understood as (type, (1,)) / '(1,)type'.\n",
      "  _np_qint32 = np.dtype([(\"qint32\", np.int32, 1)])\n",
      "C:\\Users\\aswitha eddy\\anaconda3\\lib\\site-packages\\tensorboard\\compat\\tensorflow_stub\\dtypes.py:550: FutureWarning: Passing (type, 1) or '1type' as a synonym of type is deprecated; in a future version of numpy, it will be understood as (type, (1,)) / '(1,)type'.\n",
      "  np_resource = np.dtype([(\"resource\", np.ubyte, 1)])\n"
     ]
    }
   ],
   "source": [
    "from keras.models import Sequential\n",
    "from keras.layers import Dense\n",
    "from keras.layers import Convolution2D\n",
    "from keras.layers import MaxPooling2D\n",
    "from keras.layers import Flatten"
   ]
  },
  {
   "cell_type": "code",
   "execution_count": 2,
   "metadata": {},
   "outputs": [],
   "source": [
    "from keras.preprocessing.image import ImageDataGenerator\n",
    "train_datagen=ImageDataGenerator(rescale=1./255,shear_range=0.2,zoom_range=0.2,horizontal_flip=True)\n",
    "test_datagen=ImageDataGenerator(rescale=1./255)"
   ]
  },
  {
   "cell_type": "code",
   "execution_count": 3,
   "metadata": {},
   "outputs": [
    {
     "name": "stdout",
     "output_type": "stream",
     "text": [
      "Found 348 images belonging to 5 classes.\n",
      "Found 149 images belonging to 5 classes.\n"
     ]
    }
   ],
   "source": [
    "x_train=train_datagen.flow_from_directory(r\"C:\\Users\\aswitha eddy\\Desktop\\skin disease\\trainset\",target_size=(64,64),batch_size=32,class_mode=\"categorical\")\n",
    "x_test=train_datagen.flow_from_directory(r\"C:\\Users\\aswitha eddy\\Desktop\\skin disease\\testset\",target_size=(64,64),batch_size=32,class_mode=\"categorical\")"
   ]
  },
  {
   "cell_type": "code",
   "execution_count": 4,
   "metadata": {},
   "outputs": [
    {
     "data": {
      "text/plain": [
       "{'acne': 0, 'blister': 1, 'chikenpox': 2, 'melanoma': 3, 'vitiligo': 4}"
      ]
     },
     "execution_count": 4,
     "metadata": {},
     "output_type": "execute_result"
    }
   ],
   "source": [
    "x_train.class_indices"
   ]
  },
  {
   "cell_type": "code",
   "execution_count": 5,
   "metadata": {},
   "outputs": [
    {
     "name": "stdout",
     "output_type": "stream",
     "text": [
      "WARNING:tensorflow:From C:\\Users\\aswitha eddy\\anaconda3\\lib\\site-packages\\keras\\backend\\tensorflow_backend.py:74: The name tf.get_default_graph is deprecated. Please use tf.compat.v1.get_default_graph instead.\n",
      "\n"
     ]
    }
   ],
   "source": [
    "model=Sequential()"
   ]
  },
  {
   "cell_type": "code",
   "execution_count": 6,
   "metadata": {},
   "outputs": [
    {
     "name": "stdout",
     "output_type": "stream",
     "text": [
      "WARNING:tensorflow:From C:\\Users\\aswitha eddy\\anaconda3\\lib\\site-packages\\keras\\backend\\tensorflow_backend.py:517: The name tf.placeholder is deprecated. Please use tf.compat.v1.placeholder instead.\n",
      "\n",
      "WARNING:tensorflow:From C:\\Users\\aswitha eddy\\anaconda3\\lib\\site-packages\\keras\\backend\\tensorflow_backend.py:4138: The name tf.random_uniform is deprecated. Please use tf.random.uniform instead.\n",
      "\n"
     ]
    }
   ],
   "source": [
    "model.add(Convolution2D(32,(3,3),input_shape=(64,64,3),activation=\"relu\"))"
   ]
  },
  {
   "cell_type": "code",
   "execution_count": 7,
   "metadata": {},
   "outputs": [
    {
     "name": "stdout",
     "output_type": "stream",
     "text": [
      "WARNING:tensorflow:From C:\\Users\\aswitha eddy\\anaconda3\\lib\\site-packages\\keras\\backend\\tensorflow_backend.py:3976: The name tf.nn.max_pool is deprecated. Please use tf.nn.max_pool2d instead.\n",
      "\n"
     ]
    }
   ],
   "source": [
    "model.add(MaxPooling2D(pool_size=(2,2)))"
   ]
  },
  {
   "cell_type": "code",
   "execution_count": 8,
   "metadata": {},
   "outputs": [],
   "source": [
    "model.add(Flatten())"
   ]
  },
  {
   "cell_type": "code",
   "execution_count": 9,
   "metadata": {},
   "outputs": [
    {
     "name": "stderr",
     "output_type": "stream",
     "text": [
      "C:\\Users\\aswitha eddy\\anaconda3\\lib\\site-packages\\ipykernel_launcher.py:1: UserWarning: Update your `Dense` call to the Keras 2 API: `Dense(units=128, activation=\"relu\", kernel_initializer=\"uniform\")`\n",
      "  \"\"\"Entry point for launching an IPython kernel.\n"
     ]
    }
   ],
   "source": [
    "model.add(Dense(units=128,init=\"uniform\",activation=\"relu\"))"
   ]
  },
  {
   "cell_type": "code",
   "execution_count": 10,
   "metadata": {},
   "outputs": [
    {
     "name": "stderr",
     "output_type": "stream",
     "text": [
      "C:\\Users\\aswitha eddy\\anaconda3\\lib\\site-packages\\ipykernel_launcher.py:1: UserWarning: Update your `Dense` call to the Keras 2 API: `Dense(units=5, activation=\"softmax\", kernel_initializer=\"uniform\")`\n",
      "  \"\"\"Entry point for launching an IPython kernel.\n"
     ]
    }
   ],
   "source": [
    "model.add(Dense(units=5,init=\"uniform\",activation=\"softmax\"))"
   ]
  },
  {
   "cell_type": "code",
   "execution_count": 11,
   "metadata": {},
   "outputs": [
    {
     "name": "stdout",
     "output_type": "stream",
     "text": [
      "WARNING:tensorflow:From C:\\Users\\aswitha eddy\\anaconda3\\lib\\site-packages\\keras\\optimizers.py:790: The name tf.train.Optimizer is deprecated. Please use tf.compat.v1.train.Optimizer instead.\n",
      "\n",
      "WARNING:tensorflow:From C:\\Users\\aswitha eddy\\anaconda3\\lib\\site-packages\\keras\\backend\\tensorflow_backend.py:3295: The name tf.log is deprecated. Please use tf.math.log instead.\n",
      "\n"
     ]
    }
   ],
   "source": [
    "model.compile(optimizer=\"adam\",loss=\"categorical_crossentropy\",metrics=[\"accuracy\"])"
   ]
  },
  {
   "cell_type": "code",
   "execution_count": 12,
   "metadata": {},
   "outputs": [
    {
     "name": "stdout",
     "output_type": "stream",
     "text": [
      "WARNING:tensorflow:From C:\\Users\\aswitha eddy\\anaconda3\\lib\\site-packages\\tensorflow\\python\\ops\\math_grad.py:1250: add_dispatch_support.<locals>.wrapper (from tensorflow.python.ops.array_ops) is deprecated and will be removed in a future version.\n",
      "Instructions for updating:\n",
      "Use tf.where in 2.0, which has the same broadcast rule as np.where\n",
      "WARNING:tensorflow:From C:\\Users\\aswitha eddy\\anaconda3\\lib\\site-packages\\keras\\backend\\tensorflow_backend.py:986: The name tf.assign_add is deprecated. Please use tf.compat.v1.assign_add instead.\n",
      "\n",
      "Epoch 1/50\n",
      "40/40 [==============================] - 22s 548ms/step - loss: 1.5651 - acc: 0.3411 - val_loss: 1.3211 - val_acc: 0.4452\n",
      "Epoch 2/50\n",
      "40/40 [==============================] - 16s 405ms/step - loss: 1.2063 - acc: 0.4757 - val_loss: 1.0873 - val_acc: 0.5705\n",
      "Epoch 3/50\n",
      "40/40 [==============================] - 16s 405ms/step - loss: 1.0784 - acc: 0.5555 - val_loss: 1.0224 - val_acc: 0.5459\n",
      "Epoch 4/50\n",
      "40/40 [==============================] - 18s 444ms/step - loss: 0.9727 - acc: 0.6240 - val_loss: 1.0054 - val_acc: 0.6555\n",
      "Epoch 5/50\n",
      "40/40 [==============================] - 16s 406ms/step - loss: 0.8417 - acc: 0.7033 - val_loss: 0.9061 - val_acc: 0.6219\n",
      "Epoch 6/50\n",
      "40/40 [==============================] - 16s 410ms/step - loss: 0.7791 - acc: 0.7145 - val_loss: 0.8758 - val_acc: 0.6689\n",
      "Epoch 7/50\n",
      "40/40 [==============================] - 16s 406ms/step - loss: 0.7042 - acc: 0.7414 - val_loss: 0.8913 - val_acc: 0.6577\n",
      "Epoch 8/50\n",
      "40/40 [==============================] - 16s 390ms/step - loss: 0.5904 - acc: 0.7924 - val_loss: 0.8829 - val_acc: 0.6309\n",
      "Epoch 9/50\n",
      "40/40 [==============================] - 15s 386ms/step - loss: 0.5773 - acc: 0.8097 - val_loss: 0.8264 - val_acc: 0.6734\n",
      "Epoch 10/50\n",
      "40/40 [==============================] - 17s 421ms/step - loss: 0.4793 - acc: 0.8351 - val_loss: 0.8186 - val_acc: 0.6890\n",
      "Epoch 11/50\n",
      "40/40 [==============================] - 16s 404ms/step - loss: 0.4170 - acc: 0.8718 - val_loss: 0.9201 - val_acc: 0.6532\n",
      "Epoch 12/50\n",
      "40/40 [==============================] - 16s 393ms/step - loss: 0.3544 - acc: 0.8850 - val_loss: 0.8917 - val_acc: 0.6868\n",
      "Epoch 13/50\n",
      "40/40 [==============================] - 16s 393ms/step - loss: 0.3250 - acc: 0.8974 - val_loss: 0.9993 - val_acc: 0.6376\n",
      "Epoch 14/50\n",
      "40/40 [==============================] - 16s 397ms/step - loss: 0.2944 - acc: 0.9154 - val_loss: 0.9105 - val_acc: 0.7204\n",
      "Epoch 15/50\n",
      "40/40 [==============================] - 16s 392ms/step - loss: 0.2339 - acc: 0.9322 - val_loss: 0.8548 - val_acc: 0.7114\n",
      "Epoch 16/50\n",
      "40/40 [==============================] - 16s 388ms/step - loss: 0.2336 - acc: 0.9336 - val_loss: 1.0238 - val_acc: 0.6644\n",
      "Epoch 17/50\n",
      "40/40 [==============================] - 16s 410ms/step - loss: 0.2065 - acc: 0.9401 - val_loss: 0.9845 - val_acc: 0.7047\n",
      "Epoch 18/50\n",
      "40/40 [==============================] - 16s 388ms/step - loss: 0.1681 - acc: 0.9550 - val_loss: 1.0518 - val_acc: 0.6734\n",
      "Epoch 19/50\n",
      "40/40 [==============================] - 16s 389ms/step - loss: 0.1541 - acc: 0.9579 - val_loss: 0.9804 - val_acc: 0.6890\n",
      "Epoch 20/50\n",
      "40/40 [==============================] - 15s 387ms/step - loss: 0.1279 - acc: 0.9746 - val_loss: 1.1270 - val_acc: 0.6935\n",
      "Epoch 21/50\n",
      "40/40 [==============================] - 15s 387ms/step - loss: 0.1103 - acc: 0.9810 - val_loss: 1.0284 - val_acc: 0.6980\n",
      "Epoch 22/50\n",
      "40/40 [==============================] - 18s 441ms/step - loss: 0.1025 - acc: 0.9728 - val_loss: 1.3084 - val_acc: 0.6779\n",
      "Epoch 23/50\n",
      "40/40 [==============================] - 16s 394ms/step - loss: 0.0928 - acc: 0.9802 - val_loss: 1.2214 - val_acc: 0.6756\n",
      "Epoch 24/50\n",
      "40/40 [==============================] - 16s 394ms/step - loss: 0.0906 - acc: 0.9840 - val_loss: 1.0612 - val_acc: 0.6935\n",
      "Epoch 25/50\n",
      "40/40 [==============================] - 16s 399ms/step - loss: 0.0765 - acc: 0.9857 - val_loss: 1.1868 - val_acc: 0.7002\n",
      "Epoch 26/50\n",
      "40/40 [==============================] - 20s 494ms/step - loss: 0.0600 - acc: 0.9881 - val_loss: 1.2622 - val_acc: 0.6734\n",
      "Epoch 27/50\n",
      "40/40 [==============================] - 16s 390ms/step - loss: 0.0550 - acc: 0.9930 - val_loss: 1.1788 - val_acc: 0.6935\n",
      "Epoch 28/50\n",
      "40/40 [==============================] - 15s 385ms/step - loss: 0.0708 - acc: 0.9857 - val_loss: 1.2529 - val_acc: 0.6935\n",
      "Epoch 29/50\n",
      "40/40 [==============================] - 16s 403ms/step - loss: 0.0561 - acc: 0.9912 - val_loss: 1.4090 - val_acc: 0.7047\n",
      "Epoch 30/50\n",
      "40/40 [==============================] - 17s 416ms/step - loss: 0.0532 - acc: 0.9912 - val_loss: 1.4068 - val_acc: 0.7025\n",
      "Epoch 31/50\n",
      "40/40 [==============================] - 17s 430ms/step - loss: 0.0424 - acc: 0.9922 - val_loss: 1.3382 - val_acc: 0.6756\n",
      "Epoch 32/50\n",
      "40/40 [==============================] - 16s 406ms/step - loss: 0.0484 - acc: 0.9930 - val_loss: 1.4977 - val_acc: 0.6823\n",
      "Epoch 33/50\n",
      "40/40 [==============================] - 17s 423ms/step - loss: 0.0460 - acc: 0.9888 - val_loss: 1.4746 - val_acc: 0.6734\n",
      "Epoch 34/50\n",
      "40/40 [==============================] - 17s 430ms/step - loss: 0.0470 - acc: 0.9882 - val_loss: 1.4201 - val_acc: 0.6868\n",
      "Epoch 35/50\n",
      "40/40 [==============================] - 19s 467ms/step - loss: 0.0309 - acc: 0.9953 - val_loss: 1.3054 - val_acc: 0.7047\n",
      "Epoch 36/50\n",
      "40/40 [==============================] - 16s 395ms/step - loss: 0.0292 - acc: 0.9977 - val_loss: 1.4189 - val_acc: 0.7002\n",
      "Epoch 37/50\n",
      "40/40 [==============================] - 16s 409ms/step - loss: 0.0324 - acc: 0.9929 - val_loss: 1.4245 - val_acc: 0.6935\n",
      "Epoch 38/50\n",
      "40/40 [==============================] - 18s 457ms/step - loss: 0.0493 - acc: 0.9843 - val_loss: 1.3581 - val_acc: 0.6756\n",
      "Epoch 39/50\n",
      "40/40 [==============================] - 16s 403ms/step - loss: 0.0639 - acc: 0.9835 - val_loss: 1.6525 - val_acc: 0.6779\n",
      "Epoch 40/50\n",
      "40/40 [==============================] - 16s 400ms/step - loss: 0.0435 - acc: 0.9904 - val_loss: 1.3973 - val_acc: 0.6846\n",
      "Epoch 41/50\n",
      "40/40 [==============================] - 16s 401ms/step - loss: 0.0233 - acc: 0.9968 - val_loss: 1.4193 - val_acc: 0.6913\n",
      "Epoch 42/50\n",
      "40/40 [==============================] - 16s 397ms/step - loss: 0.0243 - acc: 0.9945 - val_loss: 1.5035 - val_acc: 0.6890\n",
      "Epoch 43/50\n",
      "40/40 [==============================] - 17s 433ms/step - loss: 0.0148 - acc: 0.9992 - val_loss: 1.5354 - val_acc: 0.7002\n",
      "Epoch 44/50\n",
      "40/40 [==============================] - 17s 426ms/step - loss: 0.0123 - acc: 0.9992 - val_loss: 1.5553 - val_acc: 0.6913\n",
      "Epoch 45/50\n",
      "40/40 [==============================] - 16s 398ms/step - loss: 0.0137 - acc: 0.9992 - val_loss: 1.5756 - val_acc: 0.6734\n",
      "Epoch 46/50\n",
      "40/40 [==============================] - 16s 391ms/step - loss: 0.0100 - acc: 1.0000 - val_loss: 1.6409 - val_acc: 0.6868\n",
      "Epoch 47/50\n",
      "40/40 [==============================] - 16s 403ms/step - loss: 0.0085 - acc: 1.0000 - val_loss: 1.6278 - val_acc: 0.7025\n",
      "Epoch 48/50\n",
      "40/40 [==============================] - 16s 394ms/step - loss: 0.0084 - acc: 0.9984 - val_loss: 1.6638 - val_acc: 0.7181\n",
      "Epoch 49/50\n",
      "40/40 [==============================] - 16s 388ms/step - loss: 0.0221 - acc: 0.9937 - val_loss: 1.4162 - val_acc: 0.7069\n",
      "Epoch 50/50\n",
      "40/40 [==============================] - 16s 411ms/step - loss: 0.0203 - acc: 0.9969 - val_loss: 1.7667 - val_acc: 0.6957\n"
     ]
    },
    {
     "data": {
      "text/plain": [
       "<keras.callbacks.History at 0x27af9faafc8>"
      ]
     },
     "execution_count": 12,
     "metadata": {},
     "output_type": "execute_result"
    }
   ],
   "source": [
    "model.fit_generator(x_train,steps_per_epoch=40,epochs=50,validation_data=x_test,validation_steps=15)"
   ]
  },
  {
   "cell_type": "code",
   "execution_count": 13,
   "metadata": {},
   "outputs": [],
   "source": [
    "model.save(\"disease.h5\")"
   ]
  }
 ],
 "metadata": {
  "kernelspec": {
   "display_name": "Python 3",
   "language": "python",
   "name": "python3"
  },
  "language_info": {
   "codemirror_mode": {
    "name": "ipython",
    "version": 3
   },
   "file_extension": ".py",
   "mimetype": "text/x-python",
   "name": "python",
   "nbconvert_exporter": "python",
   "pygments_lexer": "ipython3",
   "version": "3.7.6"
  }
 },
 "nbformat": 4,
 "nbformat_minor": 4
}
